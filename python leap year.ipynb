{
 "cells": [
  {
   "cell_type": "code",
   "execution_count": null,
   "id": "ee5ea66f",
   "metadata": {},
   "outputs": [],
   "source": [
    "# python for LEAP YEAR @NSESN"
   ]
  },
  {
   "cell_type": "code",
   "execution_count": null,
   "id": "fc590f25",
   "metadata": {},
   "outputs": [],
   "source": [
    "try:\n",
    "    year_015=int(input(\"Enter year to be checked:\"))\n",
    "    if(year_015%4==0 and year_015%100!=0 or year_015%400==0):\n",
    "        print(\"The year is a leap year\")\n",
    "    else:\n",
    "        print(\"The year is not a leap year\")\n",
    "except ValueError:\n",
    "    print(\"sorry,INVALID INPUT\")"
   ]
  }
 ],
 "metadata": {
  "kernelspec": {
   "display_name": "Python 3 (ipykernel)",
   "language": "python",
   "name": "python3"
  },
  "language_info": {
   "codemirror_mode": {
    "name": "ipython",
    "version": 3
   },
   "file_extension": ".py",
   "mimetype": "text/x-python",
   "name": "python",
   "nbconvert_exporter": "python",
   "pygments_lexer": "ipython3",
   "version": "3.9.7"
  }
 },
 "nbformat": 4,
 "nbformat_minor": 5
}
